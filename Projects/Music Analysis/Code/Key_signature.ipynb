{
 "cells": [
  {
   "cell_type": "code",
   "execution_count": 1,
   "id": "8be0b2f5",
   "metadata": {},
   "outputs": [],
   "source": [
    "import pandas as pd\n",
    "import numpy as np\n",
    "import seaborn as sns\n",
    "\n",
    "import gensim, logging\n",
    "import pprint"
   ]
  },
  {
   "cell_type": "code",
   "execution_count": 2,
   "id": "dfe9d1d0",
   "metadata": {},
   "outputs": [],
   "source": [
    "df = pd.read_csv(\"../file_name.csv\", sep=\",\")"
   ]
  },
  {
   "cell_type": "code",
   "execution_count": 3,
   "id": "e8e3b8db",
   "metadata": {},
   "outputs": [
    {
     "data": {
      "text/plain": [
       "0     B- major\n",
       "1      E major\n",
       "2      g minor\n",
       "3      g minor\n",
       "4      a minor\n",
       "5      g minor\n",
       "6     B- major\n",
       "7     B- major\n",
       "8      e minor\n",
       "9     E- major\n",
       "10     C major\n",
       "11     G major\n",
       "12     f minor\n",
       "13     A major\n",
       "14     C major\n",
       "15     C major\n",
       "16     F major\n",
       "17     G major\n",
       "18     C major\n",
       "19     F major\n",
       "20    A- major\n",
       "21     a minor\n",
       "22     C major\n",
       "23     A major\n",
       "24     f minor\n",
       "25    A- major\n",
       "26     e minor\n",
       "27     E major\n",
       "28     g minor\n",
       "29     F major\n",
       "30     E major\n",
       "31     F major\n",
       "32    E- major\n",
       "33    b- minor\n",
       "34     e minor\n",
       "35     e minor\n",
       "36    B- major\n",
       "Name: key_signature, dtype: object"
      ]
     },
     "execution_count": 3,
     "metadata": {},
     "output_type": "execute_result"
    }
   ],
   "source": [
    "df[\"key_signature\"]"
   ]
  },
  {
   "cell_type": "code",
   "execution_count": 10,
   "id": "ce9ea0db",
   "metadata": {},
   "outputs": [
    {
     "name": "stdout",
     "output_type": "stream",
     "text": [
      "f\n",
      "A-\n",
      "e\n",
      "E\n",
      "g\n",
      "F\n",
      "E\n",
      "F\n",
      "E-\n",
      "b-\n",
      "e\n",
      "e\n",
      "B-\n"
     ]
    }
   ],
   "source": [
    "for data in df[\"key_signature\"][24:]:\n",
    "    print(data[:2].rstrip())"
   ]
  },
  {
   "cell_type": "code",
   "execution_count": null,
   "id": "4f3b7aa0",
   "metadata": {},
   "outputs": [],
   "source": []
  }
 ],
 "metadata": {
  "kernelspec": {
   "display_name": "Python 3 (ipykernel)",
   "language": "python",
   "name": "python3"
  },
  "language_info": {
   "codemirror_mode": {
    "name": "ipython",
    "version": 3
   },
   "file_extension": ".py",
   "mimetype": "text/x-python",
   "name": "python",
   "nbconvert_exporter": "python",
   "pygments_lexer": "ipython3",
   "version": "3.9.12"
  }
 },
 "nbformat": 4,
 "nbformat_minor": 5
}
